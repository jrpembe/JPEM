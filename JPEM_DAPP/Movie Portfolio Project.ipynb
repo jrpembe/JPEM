{
 "cells": [
  {
   "cell_type": "markdown",
   "metadata": {},
   "source": [
    "Import the necessary libraries"
   ]
  },
  {
   "cell_type": "code",
   "execution_count": null,
   "metadata": {},
   "outputs": [],
   "source": [
    "import pandas as pd\n",
    "import seaborn as sns\n",
    "import numpy as np\n",
    "import matplotlib\n",
    "import matplotlib.pyplot as plt\n",
    "plt.style.use('ggplot')\n",
    "from matplotlib import figure\n",
    "\n",
    "%matplotlib inline\n",
    "matplotlib.rcParams['figure.figsize'] = (12,8)"
   ]
  },
  {
   "cell_type": "markdown",
   "metadata": {},
   "source": [
    "Read in the movies.csv data"
   ]
  },
  {
   "cell_type": "code",
   "execution_count": null,
   "metadata": {},
   "outputs": [],
   "source": [
    "# read in the movies.csv dataset\n",
    "df = pd.read_csv('C:/JPEM_Git_Main/JPEM/JPEM_DAPP/data/movies.csv')\n",
    "df.head()"
   ]
  },
  {
   "cell_type": "markdown",
   "metadata": {},
   "source": [
    "Looking for missing data"
   ]
  },
  {
   "cell_type": "code",
   "execution_count": null,
   "metadata": {},
   "outputs": [],
   "source": [
    "for col in df.columns:\n",
    "    percent_missing = np.mean(df[col].isnull())\n",
    "    print('{} - {}%'.format(col, percent_missing))"
   ]
  },
  {
   "cell_type": "markdown",
   "metadata": {},
   "source": [
    "Data Types for our Columns\n",
    "- Budget and Gross do not need to be float64"
   ]
  },
  {
   "cell_type": "code",
   "execution_count": null,
   "metadata": {},
   "outputs": [],
   "source": [
    "\n",
    "df.dropna(subset=['budget', 'gross'], inplace=True)\n",
    "df['budget'] = df['budget'].astype('int64')\n",
    "df['gross'] = df['gross'].astype('int64')\n",
    "df.dtypes"
   ]
  },
  {
   "cell_type": "markdown",
   "metadata": {},
   "source": [
    "Year and Released don't always match. Lets fix that by extracting \"year\" from released"
   ]
  },
  {
   "cell_type": "code",
   "execution_count": null,
   "metadata": {},
   "outputs": [],
   "source": [
    "# Function to extract the year\n",
    "def extract_year(date_str):\n",
    "    comma_pos = date_str.find(',')\n",
    "    return date_str[comma_pos + 2:comma_pos + 6]\n",
    "\n",
    "# Apply the function to the Series\n",
    "df['released_year'] = df['released'].apply(extract_year)\n",
    "\n",
    "df.head()"
   ]
  },
  {
   "cell_type": "code",
   "execution_count": null,
   "metadata": {},
   "outputs": [],
   "source": [
    "# df.sort_values(by=['gross'], inplace=False, ascending=False)"
   ]
  },
  {
   "cell_type": "code",
   "execution_count": null,
   "metadata": {},
   "outputs": [],
   "source": [
    "# pd.set_option('display.max_rows', None)"
   ]
  },
  {
   "cell_type": "markdown",
   "metadata": {},
   "source": [
    "Drop Duplicates"
   ]
  },
  {
   "cell_type": "code",
   "execution_count": null,
   "metadata": {},
   "outputs": [],
   "source": [
    "df['company'].drop_duplicates().sort_values(ascending=False)"
   ]
  },
  {
   "cell_type": "markdown",
   "metadata": {},
   "source": [
    "Visualizing Relationship Between Budget and Gross Revenue"
   ]
  },
  {
   "cell_type": "code",
   "execution_count": null,
   "metadata": {},
   "outputs": [],
   "source": [
    "# Scatterplot of Budget vs Gross Revenue\n",
    "\n",
    "plt.scatter(x=df['budget'], y=df['gross'])\n",
    "plt.xlabel('Budget')\n",
    "plt.ylabel('Gross Revenue')\n",
    "plt.title('Budget versus Gross Revenue')\n",
    "plt.show()"
   ]
  },
  {
   "cell_type": "code",
   "execution_count": null,
   "metadata": {},
   "outputs": [],
   "source": [
    "# Regression Plot using Seaborn\n",
    "\n",
    "sns.regplot(data=df, x=df['budget'], y=df['gross'], scatter_kws={\"color\":\"red\"}, line_kws={\"color\":\"blue\"}).set(title='Gross Revenue vs Budget', xlabel='Budget', ylabel=\"Gross Revenue\")\n"
   ]
  },
  {
   "cell_type": "code",
   "execution_count": null,
   "metadata": {},
   "outputs": [],
   "source": [
    "numeric_df = df.select_dtypes(include=['float64', 'int64'])\n",
    "\n",
    "# Compute the correlation matrix\n",
    "correlation_matrix = numeric_df.corr(method='pearson') # pearson, kendall, spearman\n",
    "\n",
    "# Print the correlation matrix\n",
    "print(correlation_matrix)"
   ]
  },
  {
   "cell_type": "markdown",
   "metadata": {},
   "source": [
    "Visualizing the Correlation Matrix using a Heatmap"
   ]
  },
  {
   "cell_type": "code",
   "execution_count": null,
   "metadata": {},
   "outputs": [],
   "source": [
    "# Assuming df is your DataFrame\n",
    "# Select only the numeric columns\n",
    "numeric_df = df.select_dtypes(include=['float64', 'int64'])\n",
    "\n",
    "# Compute the correlation matrix\n",
    "correlation_matrix = numeric_df.corr(method='pearson')\n",
    "\n",
    "# Create a heatmap\n",
    "plt.figure(figsize=(10, 8))\n",
    "sns.heatmap(correlation_matrix, annot=True, fmt=\".2f\", linewidths=0.5)\n",
    "\n",
    "# Display the heatmap\n",
    "plt.title('Correlation Matrix Heatmap of Movie Database')\n",
    "plt.show()"
   ]
  },
  {
   "cell_type": "markdown",
   "metadata": {},
   "source": [
    "Looking at Company Information (currently non-numeric)"
   ]
  },
  {
   "cell_type": "code",
   "execution_count": null,
   "metadata": {},
   "outputs": [],
   "source": [
    "df_numeric = df\n",
    "\n",
    "for col_name in df_numeric.columns:\n",
    "    if(df_numeric[col_name]).dtype == 'object':\n",
    "        df_numeric[col_name] = df_numeric[col_name].astype('category')\n",
    "        df_numeric[col_name] = df_numeric[col_name].cat.codes\n",
    "        \n",
    "df_numeric"
   ]
  },
  {
   "cell_type": "code",
   "execution_count": null,
   "metadata": {},
   "outputs": [],
   "source": [
    "# Assuming df is your DataFrame\n",
    "# Select only the numeric columns\n",
    "numeric_df = df_numeric.select_dtypes(include=['float64', 'int64'])\n",
    "\n",
    "# Compute the correlation matrix\n",
    "correlation_matrix = df_numeric.corr(method='pearson')\n",
    "\n",
    "# Create a heatmap\n",
    "plt.figure(figsize=(10, 8))\n",
    "sns.heatmap(correlation_matrix, annot=True, fmt=\".2f\", linewidths=0.5)\n",
    "\n",
    "# Display the heatmap\n",
    "plt.title('Correlation Matrix Heatmap of Movie Database')\n",
    "plt.show()"
   ]
  },
  {
   "cell_type": "code",
   "execution_count": 102,
   "metadata": {},
   "outputs": [
    {
     "data": {
      "text/plain": [
       "genre          budget          -0.368900\n",
       "budget         genre           -0.368900\n",
       "genre          gross           -0.244380\n",
       "gross          genre           -0.244380\n",
       "rating         budget          -0.186892\n",
       "budget         rating          -0.186892\n",
       "rating         gross           -0.168814\n",
       "gross          rating          -0.168814\n",
       "votes          genre           -0.136457\n",
       "genre          votes           -0.136457\n",
       "company        rating          -0.082189\n",
       "rating         company         -0.082189\n",
       "country        released_year   -0.075073\n",
       "released_year  country         -0.075073\n",
       "company        genre           -0.073293\n",
       "genre          company         -0.073293\n",
       "year           genre           -0.073026\n",
       "genre          year            -0.073026\n",
       "year           country         -0.066662\n",
       "country        year            -0.066662\n",
       "genre          runtime         -0.060186\n",
       "runtime        genre           -0.060186\n",
       "released_year  genre           -0.059733\n",
       "genre          released_year   -0.059733\n",
       "score          country         -0.044690\n",
       "country        score           -0.044690\n",
       "budget         writer          -0.039420\n",
       "writer         budget          -0.039420\n",
       "director       year            -0.036936\n",
       "year           director        -0.036936\n",
       "writer         gross           -0.035999\n",
       "gross          writer          -0.035999\n",
       "released_year  star            -0.034988\n",
       "star           released_year   -0.034988\n",
       "director       released_year   -0.034233\n",
       "released_year  director        -0.034233\n",
       "runtime        country         -0.033554\n",
       "country        runtime         -0.033554\n",
       "year           star            -0.032770\n",
       "star           year            -0.032770\n",
       "gross          director        -0.029366\n",
       "director       gross           -0.029366\n",
       "writer         year            -0.024568\n",
       "year           writer          -0.024568\n",
       "country        name            -0.024555\n",
       "name           country         -0.024555\n",
       "               rating          -0.023013\n",
       "rating         name            -0.023013\n",
       "released_year  writer          -0.022282\n",
       "writer         released_year   -0.022282\n",
       "star           budget          -0.021282\n",
       "budget         star            -0.021282\n",
       "released_year  company         -0.021090\n",
       "company        released_year   -0.021090\n",
       "country        released        -0.017231\n",
       "released       country         -0.017231\n",
       "star           votes           -0.017140\n",
       "votes          star            -0.017140\n",
       "writer         runtime         -0.016672\n",
       "runtime        writer          -0.016672\n",
       "year           company         -0.013062\n",
       "company        year            -0.013062\n",
       "genre          country         -0.010847\n",
       "country        genre           -0.010847\n",
       "director       votes           -0.010198\n",
       "votes          director        -0.010198\n",
       "country        star            -0.010135\n",
       "star           country         -0.010135\n",
       "budget         director        -0.009340\n",
       "director       budget          -0.009340\n",
       "               genre           -0.009303\n",
       "genre          director        -0.009303\n",
       "director       company         -0.007337\n",
       "company        director        -0.007337\n",
       "name           star            -0.007109\n",
       "star           name            -0.007109\n",
       "rating         writer          -0.006923\n",
       "writer         rating          -0.006923\n",
       "released       released_year   -0.006572\n",
       "released_year  released        -0.006572\n",
       "released       name            -0.005896\n",
       "name           released        -0.005896\n",
       "votes          writer          -0.005394\n",
       "writer         votes           -0.005394\n",
       "released       company         -0.002927\n",
       "company        released        -0.002927\n",
       "               writer          -0.002658\n",
       "writer         company         -0.002658\n",
       "released       year            -0.001481\n",
       "year           released        -0.001481\n",
       "gross          star            -0.000009\n",
       "star           gross           -0.000009\n",
       "               genre            0.002619\n",
       "genre          star             0.002619\n",
       "released       director         0.003341\n",
       "director       released         0.003341\n",
       "rating         star             0.003737\n",
       "star           rating           0.003737\n",
       "director       score            0.005573\n",
       "score          director         0.005573\n",
       "gross          name             0.005966\n",
       "name           gross            0.005966\n",
       "writer         released         0.008514\n",
       "released       writer           0.008514\n",
       "gross          released         0.008614\n",
       "released       gross            0.008614\n",
       "               runtime          0.008619\n",
       "runtime        released         0.008619\n",
       "score          star             0.009121\n",
       "star           score            0.009121\n",
       "votes          rating           0.009255\n",
       "rating         votes            0.009255\n",
       "genre          name             0.009617\n",
       "name           genre            0.009617\n",
       "               runtime          0.010800\n",
       "runtime        name             0.010800\n",
       "director       country          0.011108\n",
       "country        director         0.011108\n",
       "writer         name             0.011602\n",
       "name           writer           0.011602\n",
       "runtime        star             0.012439\n",
       "star           runtime          0.012439\n",
       "score          writer           0.012860\n",
       "writer         score            0.012860\n",
       "name           votes            0.012915\n",
       "votes          name             0.012915\n",
       "director       name             0.013699\n",
       "name           director         0.013699\n",
       "rating         director         0.014847\n",
       "director       rating           0.014847\n",
       "score          name             0.014955\n",
       "name           score            0.014955\n",
       "company        star             0.015086\n",
       "star           company          0.015086\n",
       "               released         0.015363\n",
       "released       star             0.015363\n",
       "writer         genre            0.017500\n",
       "genre          writer           0.017500\n",
       "runtime        director         0.018082\n",
       "director       runtime          0.018082\n",
       "released       rating           0.018836\n",
       "rating         released         0.018836\n",
       "writer         star             0.019273\n",
       "star           writer           0.019273\n",
       "budget         released         0.019888\n",
       "released       budget           0.019888\n",
       "rating         country          0.020148\n",
       "country        rating           0.020148\n",
       "company        score            0.021054\n",
       "score          company          0.021054\n",
       "name           company          0.021209\n",
       "company        name             0.021209\n",
       "genre          released         0.021712\n",
       "released       genre            0.021712\n",
       "country        writer           0.022153\n",
       "writer         country          0.022153\n",
       "rating         year             0.022668\n",
       "year           rating           0.022668\n",
       "budget         name             0.023698\n",
       "name           budget           0.023698\n",
       "released_year  name             0.023698\n",
       "name           released_year    0.023698\n",
       "               year             0.024435\n",
       "year           name             0.024435\n",
       "rating         released_year    0.025578\n",
       "released_year  rating           0.025578\n",
       "released       votes            0.029029\n",
       "votes          released         0.029029\n",
       "genre          score            0.034061\n",
       "score          genre            0.034061\n",
       "director       star             0.036289\n",
       "star           director         0.036289\n",
       "runtime        company          0.038752\n",
       "company        runtime          0.038752\n",
       "country        votes            0.042146\n",
       "votes          country          0.042146\n",
       "score          released         0.046424\n",
       "released       score            0.046424\n",
       "country        company          0.049559\n",
       "company        country          0.049559\n",
       "country        budget           0.054372\n",
       "budget         country          0.054372\n",
       "score          year             0.055174\n",
       "year           score            0.055174\n",
       "released_year  score            0.058789\n",
       "score          released_year    0.058789\n",
       "               rating           0.059550\n",
       "rating         score            0.059550\n",
       "country        gross            0.060929\n",
       "gross          country          0.060929\n",
       "budget         score            0.071792\n",
       "score          budget           0.071792\n",
       "runtime        released_year    0.071826\n",
       "released_year  runtime          0.071826\n",
       "runtime        year             0.074203\n",
       "year           runtime          0.074203\n",
       "company        votes            0.119366\n",
       "votes          company          0.119366\n",
       "rating         genre            0.128102\n",
       "genre          rating           0.128102\n",
       "rating         runtime          0.133239\n",
       "runtime        rating           0.133239\n",
       "company        gross            0.150233\n",
       "gross          company          0.150233\n",
       "company        budget           0.171385\n",
       "budget         company          0.171385\n",
       "released_year  votes            0.197578\n",
       "votes          released_year    0.197578\n",
       "year           votes            0.205758\n",
       "votes          year             0.205758\n",
       "score          gross            0.222143\n",
       "gross          score            0.222143\n",
       "director       writer           0.262940\n",
       "writer         director         0.262940\n",
       "gross          released_year    0.263373\n",
       "released_year  gross            0.263373\n",
       "year           gross            0.274264\n",
       "gross          year             0.274264\n",
       "               runtime          0.275596\n",
       "runtime        gross            0.275596\n",
       "budget         released_year    0.313546\n",
       "released_year  budget           0.313546\n",
       "budget         runtime          0.318595\n",
       "runtime        budget           0.318595\n",
       "budget         year             0.327781\n",
       "year           budget           0.327781\n",
       "runtime        votes            0.352437\n",
       "votes          runtime          0.352437\n",
       "score          runtime          0.414580\n",
       "runtime        score            0.414580\n",
       "budget         votes            0.440021\n",
       "votes          budget           0.440021\n",
       "score          votes            0.473809\n",
       "votes          score            0.473809\n",
       "gross          votes            0.614904\n",
       "votes          gross            0.614904\n",
       "budget         gross            0.740395\n",
       "gross          budget           0.740395\n",
       "released_year  year             0.984099\n",
       "year           released_year    0.984099\n",
       "name           name             1.000000\n",
       "company        company          1.000000\n",
       "gross          gross            1.000000\n",
       "budget         budget           1.000000\n",
       "country        country          1.000000\n",
       "star           star             1.000000\n",
       "writer         writer           1.000000\n",
       "director       director         1.000000\n",
       "votes          votes            1.000000\n",
       "score          score            1.000000\n",
       "released       released         1.000000\n",
       "year           year             1.000000\n",
       "genre          genre            1.000000\n",
       "rating         rating           1.000000\n",
       "runtime        runtime          1.000000\n",
       "released_year  released_year    1.000000\n",
       "dtype: float64"
      ]
     },
     "execution_count": 102,
     "metadata": {},
     "output_type": "execute_result"
    }
   ],
   "source": [
    "# Unstacking \n",
    "correlation_matrix = df_numeric.corr()\n",
    "corr_pairs = correlation_matrix.unstack()\n",
    "corr_pairs\n",
    "\n",
    "sorted_pairs = corr_pairs.sort_values()\n",
    "sorted_pairs"
   ]
  },
  {
   "cell_type": "code",
   "execution_count": 101,
   "metadata": {},
   "outputs": [
    {
     "data": {
      "text/plain": [
       "gross   votes     0.614904\n",
       "votes   gross     0.614904\n",
       "budget  gross     0.740395\n",
       "gross   budget    0.740395\n",
       "dtype: float64"
      ]
     },
     "execution_count": 101,
     "metadata": {},
     "output_type": "execute_result"
    }
   ],
   "source": [
    "# displaying sorted_pairs with high correlation\n",
    "high_corr = sorted_pairs[(sorted_pairs > 0.5) & (sorted_pairs < 0.9)]\n",
    "high_corr\n",
    "\n",
    "# Based on these results the company has little to no correlation to the gross of the film."
   ]
  }
 ],
 "metadata": {
  "kernelspec": {
   "display_name": "Python 3",
   "language": "python",
   "name": "python3"
  },
  "language_info": {
   "codemirror_mode": {
    "name": "ipython",
    "version": 3
   },
   "file_extension": ".py",
   "mimetype": "text/x-python",
   "name": "python",
   "nbconvert_exporter": "python",
   "pygments_lexer": "ipython3",
   "version": "3.12.1"
  }
 },
 "nbformat": 4,
 "nbformat_minor": 2
}

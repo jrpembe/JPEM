{
 "cells": [
  {
   "cell_type": "markdown",
   "metadata": {},
   "source": []
  },
  {
   "cell_type": "code",
   "execution_count": 2,
   "metadata": {},
   "outputs": [
    {
     "name": "stdout",
     "output_type": "stream",
     "text": [
      "   is_retained  SatisfactionScore\n",
      "0        False           2.371801\n",
      "1        False           4.635769\n",
      "2         True           4.604130\n",
      "3         True           4.501901\n",
      "4         True           2.600699\n"
     ]
    }
   ],
   "source": [
    "import pandas as pd\n",
    "import numpy as np\n",
    "from datetime import datetime, timedelta\n",
    "\n",
    "# Load your dataset\n",
    "df = pd.read_csv(\"C:/JPEM_Git_Main/JPEM/JPEM_SAIT/Winter2025_PROJ406/Team 7/data/foodfusion.csv\")\n",
    "\n",
    "# Simulate fictitious columns\n",
    "\n",
    "# Generate random satisfaction scores\n",
    "np.random.seed(42)  # For reproducibility\n",
    "base_satisfaction = np.random.uniform(1, 5, size=len(df))  # Random scores between 1 and 5\n",
    "\n",
    "# Introduce bias for retained customers\n",
    "retention_boost = df['is_retained'].apply(lambda x: np.random.uniform(0.5, 1.5) if x == 1 else np.random.uniform(-0.5, 0.5))\n",
    "\n",
    "# Add retention bias to the base satisfaction score, with some random noise\n",
    "df['SatisfactionScore'] = np.clip(base_satisfaction + retention_boost, 1, 5)  # Ensure scores stay within 1 to 5\n",
    "\n",
    "# Preview the dataset\n",
    "print(df[['is_retained', 'SatisfactionScore']].head())\n",
    "# 1. Amount Spent (randomly generated based on SatisfactionScore)\n",
    "np.random.seed(42)\n",
    "df['amount_spent'] = np.round(np.random.uniform(20, 150, size=len(df)) * (df['SatisfactionScore'] / 5), 2)\n",
    "\n",
    "# 2. Frequency of Meals Purchased (based on age group)\n",
    "age_to_frequency = {\n",
    "    '0-18 years': np.random.randint(1, 5),\n",
    "    '19-24 years': np.random.randint(3, 10),\n",
    "    '25-30 years': np.random.randint(5, 12),\n",
    "    '31-36 years': np.random.randint(4, 10),\n",
    "    '37-45 years': np.random.randint(3, 8),\n",
    "    '46+ years': np.random.randint(2, 6)\n",
    "}\n",
    "df['meal_frequency'] = df['age_group'].map(age_to_frequency)\n",
    "\n",
    "# 3. Average Order Value (derived from amount spent and frequency)\n",
    "df['average_order_value'] = np.round(df['amount_spent'] / (df['meal_frequency'] + 1), 2)  # Avoid division by zero\n",
    "\n",
    "# 4. Discount Usage Rate (randomly assigned)\n",
    "df['discount_usage_rate'] = np.random.uniform(0, 1, size=len(df))  # Values between 0 (low) and 1 (high)\n",
    "\n",
    "# 5. Meal Variety Index (simulate number of unique meal types ordered)\n",
    "meal_types = ['Breakfast', 'Lunch', 'Dinner', 'Snack']\n",
    "df['meal_variety_index'] = np.random.randint(1, len(meal_types)+1, size=len(df))\n",
    "\n",
    "# 6. Days Active (calculated based on a random start date within the past year)\n",
    "df['days_active'] = np.random.randint(1, 365, size=len(df))\n",
    "\n",
    "# Save the enriched dataset\n",
    "df.to_csv(\"updated_dataset_with_fictitious_columns.csv\", index=False)"
   ]
  }
 ],
 "metadata": {
  "kernelspec": {
   "display_name": "Python 3",
   "language": "python",
   "name": "python3"
  },
  "language_info": {
   "codemirror_mode": {
    "name": "ipython",
    "version": 3
   },
   "file_extension": ".py",
   "mimetype": "text/x-python",
   "name": "python",
   "nbconvert_exporter": "python",
   "pygments_lexer": "ipython3",
   "version": "3.13.2"
  }
 },
 "nbformat": 4,
 "nbformat_minor": 2
}

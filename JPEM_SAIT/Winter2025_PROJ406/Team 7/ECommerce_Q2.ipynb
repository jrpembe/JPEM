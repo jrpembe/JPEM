{
 "cells": [
  {
   "cell_type": "markdown",
   "metadata": {},
   "source": []
  },
  {
   "cell_type": "code",
   "execution_count": null,
   "metadata": {},
   "outputs": [],
   "source": [
    "import pandas as pd\n",
    "import numpy as np\n",
    "import matplotlib.pyplot as plt\n",
    "import seaborn as sns\n",
    "from sklearn.cluster import KMeans\n",
    "from sklearn.preprocessing import StandardScaler"
   ]
  },
  {
   "cell_type": "markdown",
   "metadata": {},
   "source": []
  },
  {
   "cell_type": "code",
   "execution_count": null,
   "metadata": {},
   "outputs": [],
   "source": [
    "# Load your processed dataset (without the churn labels)\n",
    "df = pd.read_csv(\"C:/JPEM_Git_Main/JPEM/JPEM_SAIT/Winter2025_PROJ406/Team 7/data/ECommerce.csv\")\n",
    "\n",
    "# Select relevant features for clustering\n",
    "features = ['Tenure', 'Complain', 'DaySinceLastOrder']  # Modify as needed\n",
    "X = df[features]\n",
    "\n",
    "# Standardize the data (K-Means performs better with scaled data)\n",
    "scaler = StandardScaler()\n",
    "X_scaled = scaler.fit_transform(X)"
   ]
  }
 ],
 "metadata": {
  "kernelspec": {
   "display_name": "Python 3",
   "language": "python",
   "name": "python3"
  },
  "language_info": {
   "name": "python",
   "version": "3.13.2"
  }
 },
 "nbformat": 4,
 "nbformat_minor": 2
}

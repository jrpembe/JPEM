{
 "cells": [
  {
   "cell_type": "markdown",
   "metadata": {},
   "source": [
    "Solution4Assignment3\n",
    "\n",
    "October 9, 2024\n",
    "\n",
    "• Student: Jason (Yupo) Niu\n",
    "• Date: 2024-10-09"
   ]
  },
  {
   "cell_type": "markdown",
   "metadata": {},
   "source": [
    "Scenario 1 - Exponential Smoothing - Import Necessary Libraries & Load Data"
   ]
  },
  {
   "cell_type": "code",
   "execution_count": null,
   "metadata": {},
   "outputs": [],
   "source": [
    "import pandas as pd\n",
    "import numpy as np\n",
    "import matplotlib.pyplot as plt\n",
    "from statsmodels.tsa.holtwinters import SimpleExpSmoothing\n",
    "%matplotlib inline\n",
    "# Read the 'Exponential Smoothing' sheet with numeric headers\n",
    "df_exp = pd.read_excel('/tmp/Assignment_3_DataSheet.xlsx', sheet_name='Exponential Smoothing', header=2)\n",
    "# Get the numeric months from the columns, excluding the 'Period' column\n",
    "months = df_exp.columns[1:]\n",
    "# Get the actual data from the first row, excluding the 'Period' column\n",
    "actual_data = df_exp.iloc[0, 1:].values\n",
    "# Convert the actual data to numeric values\n",
    "actual_data = pd.to_numeric(actual_data, errors='coerce')\n",
    "# Create the time_series with numeric indices\n",
    "time_series = pd.Series(data=actual_data, index=months)"
   ]
  },
  {
   "cell_type": "markdown",
   "metadata": {},
   "source": [
    "Prepare the Data"
   ]
  },
  {
   "cell_type": "code",
   "execution_count": null,
   "metadata": {},
   "outputs": [],
   "source": [
    "# Drop any NaN values\n",
    "time_series = time_series.dropna()\n",
    "# Ensure the index (months) is numeric\n",
    "time_series.index = pd.to_numeric(time_series.index)"
   ]
  },
  {
   "cell_type": "markdown",
   "metadata": {},
   "source": [
    "• define custom function for Exponential Smoothing"
   ]
  },
  {
   "cell_type": "code",
   "execution_count": null,
   "metadata": {},
   "outputs": [],
   "source": [
    "def exponential_smoothing(series, alpha):\n",
    "    \"\"\"\n",
    "    Perform exponential smoothing on a time series.\n",
    "    Parameters:\n",
    "    - series: Pandas Series containing the time series data.\n",
    "    - alpha: Smoothing factor (0 < alpha <= 1).\n",
    "    Returns:\n",
    "    - Pandas Series containing the smoothed values.\n",
    "    \"\"\"\n",
    "    result = [series.iloc[0]] # Initial forecast equals the first actual value\n",
    "    for n in range(1, len(series)):\n",
    "        forecast = alpha * series.iloc[n - 1] + (1 - alpha) * result[n - 1]\n",
    "        result.append(forecast)\n",
    "    return pd.Series(result, index=series.index)"
   ]
  },
  {
   "cell_type": "markdown",
   "metadata": {},
   "source": [
    "• Compute Exponential Smoothing Forecasts"
   ]
  },
  {
   "cell_type": "code",
   "execution_count": null,
   "metadata": {},
   "outputs": [],
   "source": [
    "# Proceed with model fitting\n",
    "alphas = [0.1, 0.5, 0.8]\n",
    "forecasts = {}\n",
    "for alpha in alphas:\n",
    "    forecasts[alpha] = exponential_smoothing(time_series, alpha)\n",
    "\n",
    "# Plot the results\n",
    "plt.figure(figsize=(12,6))\n",
    "plt.plot(time_series.index, time_series.values, label='Actual Data', marker='o')\n",
    "\n",
    "for alpha in alphas:\n",
    "    plt.plot(forecasts[alpha].index, forecasts[alpha].values, label=f'Alpha = {alpha}', linestyle='--')\n",
    "plt.title('Exponential Smoothing with Different Alphas')\n",
    "plt.xlabel('Month')\n",
    "plt.ylabel('Value')\n",
    "plt.legend()\n",
    "plt.grid(True)\n",
    "plt.show()"
   ]
  },
  {
   "cell_type": "markdown",
   "metadata": {},
   "source": [
    "• Save Forecasts to Spreadsheet"
   ]
  },
  {
   "cell_type": "code",
   "execution_count": null,
   "metadata": {},
   "outputs": [],
   "source": [
    "# Add forecasted values to the DataFrame\n",
    "for idx, alpha in enumerate(alphas, start=1):\n",
    "    df_exp.iloc[idx, 1:] = forecasts[alpha].values\n",
    "    df_exp.iloc[idx, 0] = f'Forecast Alpha={alpha}'\n",
    "    \n",
    "# Display the updated DataFrame\n",
    "df_exp"
   ]
  },
  {
   "cell_type": "markdown",
   "metadata": {},
   "source": [
    "• Save to File(Overwrite Existing File)"
   ]
  },
  {
   "cell_type": "code",
   "execution_count": null,
   "metadata": {},
   "outputs": [],
   "source": [
    "with pd.ExcelWriter('/tmp/Assignment_3_DataSheet.xlsx', engine='openpyxl', \n",
    "                    mode='a', if_sheet_exists='replace') as writer:\n",
    "    df_exp.to_excel(writer, sheet_name='Exponential Smoothing Results', index=False)"
   ]
  },
  {
   "cell_type": "markdown",
   "metadata": {},
   "source": [
    "Scenario 2 - Moving Averages - Import Necessary Libraries & Load Data"
   ]
  },
  {
   "cell_type": "code",
   "execution_count": null,
   "metadata": {},
   "outputs": [],
   "source": [
    "df_ma = pd.read_excel('/tmp/Assignment_3_DataSheet.xlsx', sheet_name='Moving␣Averages', header=2)"
   ]
  },
  {
   "cell_type": "markdown",
   "metadata": {},
   "source": [
    "Prepare the Data"
   ]
  },
  {
   "cell_type": "code",
   "execution_count": null,
   "metadata": {},
   "outputs": [],
   "source": [
    "# Get the periods from the columns, excluding the 'Bi-Weekly Period' column\n",
    "periods = df_ma.columns[1:]\n",
    "# Get the actual data from the first row, excluding the 'Bi-Weekly Period' column\n",
    "actual_data = df_ma.iloc[0, 1:].values\n",
    "# Create a pandas Series with periods as index\n",
    "time_series = pd.Series(data=actual_data, index=periods.astype(int))"
   ]
  },
  {
   "cell_type": "markdown",
   "metadata": {},
   "source": [
    "• Create the Line Graph of the Time Series"
   ]
  },
  {
   "cell_type": "code",
   "execution_count": null,
   "metadata": {},
   "outputs": [],
   "source": [
    "plt.figure(figsize=(12,6))\n",
    "plt.plot(time_series.index, time_series.values, label='Original Data', marker='o')\n",
    "plt.title('Athletes\\' Performance Over Time')\n",
    "plt.xlabel('Bi-Weekly Period')\n",
    "plt.ylabel('Time')\n",
    "plt.legend()\n",
    "plt.grid(True)\n",
    "plt.show()"
   ]
  },
  {
   "cell_type": "markdown",
   "metadata": {},
   "source": [
    "• Calculate Moving Averages"
   ]
  },
  {
   "cell_type": "code",
   "execution_count": null,
   "metadata": {},
   "outputs": [],
   "source": [
    "windows = [2, 4, 6]\n",
    "ma_series = {}\n",
    "for window in windows:\n",
    "    ma = time_series.rolling(window=window).mean()\n",
    "    ma_series[window] = ma\n",
    "\n",
    "plt.figure(figsize=(12,6))\n",
    "plt.plot(time_series.index, time_series.values, label='Original Data', marker='o')\n",
    "for window in windows:\n",
    "    plt.plot(ma_series[window].index, ma_series[window].values, label=f'MovingAverage (Window={window})')\n",
    "plt.title('Moving Averages with Different Intervals')\n",
    "plt.xlabel('Bi-Weekly Period')\n",
    "plt.ylabel('Time')\n",
    "plt.legend()\n",
    "plt.grid(True)\n",
    "plt.show()"
   ]
  },
  {
   "cell_type": "markdown",
   "metadata": {},
   "source": [
    "• Save Moving Averages to Spreadsheet"
   ]
  },
  {
   "cell_type": "code",
   "execution_count": null,
   "metadata": {},
   "outputs": [],
   "source": [
    "rows_list = []\n",
    "# Original data\n",
    "original_row = ['Original Data'] + list(time_series.values)\n",
    "rows_list.append(original_row)\n",
    "for window in windows:\n",
    "    ma_values = ma_series[window].values\n",
    "    row = [f'Moving Average Window={window}'] + list(ma_values)\n",
    "    rows_list.append(row)\n",
    "# Define the columns\n",
    "columns = ['Bi-Weekly Period'] + list(time_series.index)\n",
    "# Create the DataFrame\n",
    "df_ma_results = pd.DataFrame(rows_list, columns=columns)\n",
    "# Display the results\n",
    "print(df_ma_results)"
   ]
  },
  {
   "cell_type": "markdown",
   "metadata": {},
   "source": [
    "• Save File (Overwrite) with Moving Averages"
   ]
  },
  {
   "cell_type": "code",
   "execution_count": null,
   "metadata": {},
   "outputs": [],
   "source": [
    "import pandas as pd\n",
    "# Define the sheet name\n",
    "sheet_name = 'Moving Averages Results'\n",
    "# Use ExcelWriter with if_sheet_exists='replace' to overwrite the existing sheet\n",
    "with pd.ExcelWriter('/tmp/Assignment_3_DataSheet.xlsx', engine='openpyxl', mode='a', if_sheet_exists='replace') as writer:\n",
    "    df_ma_results.to_excel(writer, sheet_name=sheet_name, index=False)"
   ]
  },
  {
   "cell_type": "markdown",
   "metadata": {},
   "source": [
    "Scenario 3 – Forecasting - Load Data"
   ]
  },
  {
   "cell_type": "code",
   "execution_count": null,
   "metadata": {},
   "outputs": [],
   "source": [
    "df_forecast = pd.read_excel('/tmp/Assignment_3_DataSheet.xlsx', sheet_name='Forecasting', header=2)\n",
    "df_forecast['Month_Num'] = df_forecast['Month']\n",
    "# Drop rows with NaN values (if any)\n",
    "df_forecast = df_forecast.dropna(subset=['Boxes', 'Month_Num'])\n",
    "# Ensure 'Boxes' is numeric\n",
    "df_forecast['Boxes'] = pd.to_numeric(df_forecast['Boxes'])"
   ]
  },
  {
   "cell_type": "code",
   "execution_count": null,
   "metadata": {},
   "outputs": [],
   "source": [
    "plt.figure(figsize=(12,6))\n",
    "plt.scatter(df_forecast['Month_Num'], df_forecast['Boxes'], label='ActualData', color='blue')\n",
    "plt.title('Number of Boxes Stored Over Time')\n",
    "plt.xlabel('Month')\n",
    "plt.ylabel('Number of Boxes')\n",
    "plt.xticks(ticks=df_forecast['Month_Num'], labels=df_forecast['Month'])\n",
    "plt.legend()\n",
    "plt.grid(True)\n",
    "plt.show()"
   ]
  },
  {
   "cell_type": "markdown",
   "metadata": {},
   "source": [
    "• Add a Linear Trend Line"
   ]
  },
  {
   "cell_type": "code",
   "execution_count": null,
   "metadata": {},
   "outputs": [],
   "source": [
    "from sklearn.linear_model import LinearRegression\n",
    "# Prepare data\n",
    "X = df_forecast['Month_Num'].values.reshape(-1, 1)\n",
    "y = df_forecast['Boxes'].values\n",
    "# Fit the model\n",
    "model = LinearRegression()\n",
    "model.fit(X, y)\n",
    "# Predict values\n",
    "y_pred = model.predict(X)"
   ]
  },
  {
   "cell_type": "markdown",
   "metadata": {},
   "source": [
    "• Plot the trend line"
   ]
  },
  {
   "cell_type": "code",
   "execution_count": null,
   "metadata": {},
   "outputs": [],
   "source": [
    "plt.figure(figsize=(12,6))\n",
    "plt.scatter(df_forecast['Month_Num'], df_forecast['Boxes'], label='ActualData', color='blue')\n",
    "plt.plot(df_forecast['Month_Num'], y_pred, label='Trend Line', color='red')\n",
    "plt.title('Trend Line for Number of Boxes Stored')\n",
    "plt.xlabel('Month')\n",
    "plt.ylabel('Number of Boxes')\n",
    "plt.xticks(ticks=df_forecast['Month_Num'], labels=df_forecast['Month'])\n",
    "plt.legend()\n",
    "plt.grid(True)\n",
    "plt.show()"
   ]
  },
  {
   "cell_type": "markdown",
   "metadata": {},
   "source": [
    "• Display the Forecast Equation"
   ]
  },
  {
   "cell_type": "code",
   "execution_count": null,
   "metadata": {},
   "outputs": [],
   "source": [
    "slope = model.coef_[0]\n",
    "intercept = model.intercept_\n",
    "print(f'Forecast Equation: y = {slope:.2f} * x + {intercept:.2f}')"
   ]
  },
  {
   "cell_type": "markdown",
   "metadata": {},
   "source": [
    "Forecast Equation: y = -50.86 * x + 1617.33\n",
    "• Forecast the Next 2 Months"
   ]
  },
  {
   "cell_type": "code",
   "execution_count": null,
   "metadata": {},
   "outputs": [],
   "source": [
    "# Add November and December to the dataset\n",
    "future_months = ['Nov', 'Dec']\n",
    "future_month_nums = [month_mapping[month] for month in future_months]\n",
    "X_future = np.array(future_month_nums).reshape(-1, 1)\n",
    "y_future_pred = model.predict(X_future)\n",
    "# Create a DataFrame for future forecasts\n",
    "df_future = pd.DataFrame({\n",
    "'Month': future_months,\n",
    "'Month_Num': future_month_nums,\n",
    "'Forecast': y_future_pred\n",
    "})\n",
    "print(df_future)"
   ]
  },
  {
   "cell_type": "markdown",
   "metadata": {},
   "source": [
    "• Plot the Forecasts on the Graph"
   ]
  },
  {
   "cell_type": "code",
   "execution_count": null,
   "metadata": {},
   "outputs": [],
   "source": [
    "plt.figure(figsize=(12,6))\n",
    "plt.scatter(df_forecast['Month_Num'], df_forecast['Boxes'], label='ActualData', color='blue')\n",
    "plt.plot(df_forecast['Month_Num'], y_pred, label='Trend Line', color='red')\n",
    "plt.scatter(df_future['Month_Num'], df_future['Forecast'], label='Forecasts', color='green', marker='X', s=100)\n",
    "all_month_nums = df_forecast['Month_Num'].tolist() + df_future['Month_Num'].tolist()\n",
    "all_months = df_forecast['Month'].tolist() + df_future['Month'].tolist()\n",
    "plt.title('Forecasts for November and December')\n",
    "plt.xlabel('Month')\n",
    "plt.ylabel('Number of Boxes')\n",
    "plt.xticks(ticks=all_month_nums, labels=all_months)\n",
    "plt.legend()\n",
    "plt.grid(True)\n",
    "plt.show()"
   ]
  },
  {
   "cell_type": "markdown",
   "metadata": {},
   "source": [
    "• Save the Forecasts to Spreadsheet"
   ]
  },
  {
   "cell_type": "code",
   "execution_count": null,
   "metadata": {},
   "outputs": [],
   "source": [
    "# Append future forecasts to the DataFrame using pd.concat\n",
    "df_combined = pd.concat([df_forecast, df_future], ignore_index=True)\n",
    "# Update the 'Boxes' column with actual and forecasted values\n",
    "df_combined['Boxes'] = df_combined['Boxes'].combine_first(df_combined['Forecast'])\n",
    "# Display the updated DataFrame\n",
    "df_combined[['Month', 'Boxes']]"
   ]
  },
  {
   "cell_type": "markdown",
   "metadata": {},
   "source": [
    "• Save File"
   ]
  },
  {
   "cell_type": "code",
   "execution_count": null,
   "metadata": {},
   "outputs": [],
   "source": [
    "with pd.ExcelWriter('/tmp/Assignment_3_DataSheet.xlsx', engine='openpyxl', mode='a', if_sheet_exists='replace') as writer:\n",
    "    df_combined[['Month', 'Boxes']].to_excel(writer, sheet_name='ForecastingResults', index=False)"
   ]
  }
 ],
 "metadata": {
  "kernelspec": {
   "display_name": "Python 3",
   "language": "python",
   "name": "python3"
  },
  "language_info": {
   "name": "python",
   "version": "3.12.1"
  }
 },
 "nbformat": 4,
 "nbformat_minor": 2
}

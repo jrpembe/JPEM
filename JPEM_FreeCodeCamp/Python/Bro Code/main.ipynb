{
 "cells": [
  {
   "cell_type": "code",
   "execution_count": 2,
   "metadata": {},
   "outputs": [
    {
     "name": "stdout",
     "output_type": "stream",
     "text": [
      "Bro Code learning python\n"
     ]
    }
   ],
   "source": [
    "# Printing in Python\n",
    "print(\"Bro Code learning python\")"
   ]
  },
  {
   "cell_type": "code",
   "execution_count": null,
   "metadata": {},
   "outputs": [],
   "source": [
    "# String variables in Python\n",
    "name = \"Jason\"\n",
    "print(name)\n",
    "print(type(name))\n",
    "\n",
    "print(\"Hello \" + name)\n",
    "\n",
    "first_name = \"Jason\"\n",
    "last_name = \"Pemberton\"\n",
    "\n",
    "print(first_name + \" \" + last_name)"
   ]
  },
  {
   "cell_type": "code",
   "execution_count": 15,
   "metadata": {},
   "outputs": [
    {
     "name": "stdout",
     "output_type": "stream",
     "text": [
      "21\n",
      "<class 'int'>\n",
      "42\n",
      "<class 'float'>\n",
      "Your dog weighs: 34.6kg\n",
      "False\n",
      "Are you a human? False\n"
     ]
    }
   ],
   "source": [
    "# integer, floating point, and boolean variables in Python\n",
    "# integers\n",
    "num = 21\n",
    "print(num)\n",
    "print(type(num))\n",
    "\n",
    "print(2*num)\n",
    "\n",
    "# floating point\n",
    "num2 = 34.6\n",
    "print(type(num2))\n",
    "\n",
    "# your floating point variable has to be converted to string to print\n",
    "print(\"Your dog weighs: \" + str(num2) + \"kg\")\n",
    "\n",
    "# Boolean variables\n",
    "human = False\n",
    "print(human)\n",
    "print(\"Are you a human? \" + str(human))"
   ]
  },
  {
   "cell_type": "code",
   "execution_count": 20,
   "metadata": {},
   "outputs": [
    {
     "name": "stdout",
     "output_type": "stream",
     "text": [
      "Jason is a 52 year old Male\n"
     ]
    }
   ],
   "source": [
    "# Multiple assignment\n",
    "name, age, sex = \"Jason\", 52, \"Male\"\n",
    "print(name + \" is a \" + str(age) + \" year old \" + sex )"
   ]
  },
  {
   "cell_type": "code",
   "execution_count": 23,
   "metadata": {},
   "outputs": [
    {
     "data": {
      "text/plain": [
       "'Jason'"
      ]
     },
     "execution_count": 23,
     "metadata": {},
     "output_type": "execute_result"
    }
   ],
   "source": [
    "# String methods in Python, accessed by typing \".\" after a variable\n",
    "# eg typing name. will open u pa list of string methods that can be applied to the string variable \"name\"\n",
    "# the method is applied only once at the time it is called, but the original variable remains unchanged\n",
    "name.upper()\n",
    "name"
   ]
  }
 ],
 "metadata": {
  "kernelspec": {
   "display_name": "Python 3",
   "language": "python",
   "name": "python3"
  },
  "language_info": {
   "codemirror_mode": {
    "name": "ipython",
    "version": 3
   },
   "file_extension": ".py",
   "mimetype": "text/x-python",
   "name": "python",
   "nbconvert_exporter": "python",
   "pygments_lexer": "ipython3",
   "version": "3.12.1"
  }
 },
 "nbformat": 4,
 "nbformat_minor": 2
}

{
 "cells": [
  {
   "cell_type": "code",
   "execution_count": 11,
   "metadata": {},
   "outputs": [],
   "source": [
    "name = \"Jason Pemberton\""
   ]
  },
  {
   "cell_type": "code",
   "execution_count": 12,
   "metadata": {},
   "outputs": [
    {
     "name": "stdout",
     "output_type": "stream",
     "text": [
      "15\n"
     ]
    }
   ],
   "source": [
    "# length method\n",
    "print(len(name))"
   ]
  },
  {
   "cell_type": "code",
   "execution_count": 13,
   "metadata": {},
   "outputs": [
    {
     "name": "stdout",
     "output_type": "stream",
     "text": [
      "3\n"
     ]
    }
   ],
   "source": [
    "# find the index of a character within a string\n",
    "print(name.find(\"o\"))"
   ]
  },
  {
   "cell_type": "code",
   "execution_count": 20,
   "metadata": {},
   "outputs": [
    {
     "name": "stdout",
     "output_type": "stream",
     "text": [
      "Jason pemberton\n",
      "JASON PEMBERTON\n",
      "jason pemberton\n",
      "False\n",
      "False\n",
      "2\n",
      "Jason Pambarton\n",
      "Jason PembertonJason PembertonJason Pemberton\n"
     ]
    }
   ],
   "source": [
    "print(name.capitalize())\n",
    "print(name.upper())\n",
    "print(name.lower())\n",
    "print(name.isdigit())\n",
    "print(name.isalpha()) # returns False if there is a space. Useful for searching for whitespace\n",
    "print(name.count(\"e\"))\n",
    "print(name.replace(\"e\", \"a\")) # replacement is not permanent nor written back to the original variable\n",
    "print(name*3)"
   ]
  }
 ],
 "metadata": {
  "kernelspec": {
   "display_name": "Python 3",
   "language": "python",
   "name": "python3"
  },
  "language_info": {
   "codemirror_mode": {
    "name": "ipython",
    "version": 3
   },
   "file_extension": ".py",
   "mimetype": "text/x-python",
   "name": "python",
   "nbconvert_exporter": "python",
   "pygments_lexer": "ipython3",
   "version": "3.12.1"
  }
 },
 "nbformat": 4,
 "nbformat_minor": 2
}

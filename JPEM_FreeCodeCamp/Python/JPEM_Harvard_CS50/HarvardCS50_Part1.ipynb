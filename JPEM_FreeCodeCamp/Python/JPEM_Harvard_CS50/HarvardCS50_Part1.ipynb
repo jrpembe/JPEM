{
 "cells": [
  {
   "cell_type": "markdown",
   "metadata": {},
   "source": [
    "Harvard CS50's Introduction to Programming with Python - Part 1"
   ]
  },
  {
   "cell_type": "markdown",
   "metadata": {},
   "source": [
    "Variables, Strings, Functions, and Arguments"
   ]
  },
  {
   "cell_type": "code",
   "execution_count": null,
   "metadata": {},
   "outputs": [],
   "source": [
    "# Ask a user for their name\n",
    "name = input(\"What is your name? \")\n",
    "\n",
    "# Say hello to user, passing one or two arguments to the print function\n",
    "print(\"Hello, \" + name) # one argument\n",
    "print(\"Hello,\", name) # two arguments\n",
    "\n",
    "# or using format string or f-string\n",
    "print(f\"Hello, {name}\")\n",
    "\n",
    "# Print inserts a \"new line\" command at the end by default\n",
    "# by using the end='\\n' parameter\n",
    "print(\"Hello,\", end=\"\")\n",
    "print(name)\n",
    "\n",
    "# Remove whitespace from string (str)\n",
    "name = name.strip()\n",
    "print(\"Hello,\", name)\n",
    "\n",
    "# Capitalize user's name (works on a single argument)\n",
    "name = name.capitalize()\n",
    "print(\"Hello,\", name)\n",
    "\n",
    "# Capitalize all arguments)\n",
    "name = name.title()\n",
    "print(\"Hello,\", name)\n",
    "\n",
    "# We can chain together our functions on a single line\n",
    "name = name.strip().title()\n",
    "print(\"Hello,\", name)\n",
    "\n",
    "# Finally we can apply these functions to the original \n",
    "# input function as the user enters their information\n",
    "# name = input(\"What is your name? \").strip().title()\n",
    "\n",
    "# Splitting users name into first name and last name\n",
    "# assigning the result to two variables\n",
    "first_name, last_name = name.split(\" \")\n",
    "print(first_name)\n",
    "print(last_name)"
   ]
  },
  {
   "cell_type": "markdown",
   "metadata": {},
   "source": [
    "Intergers"
   ]
  },
  {
   "cell_type": "code",
   "execution_count": null,
   "metadata": {},
   "outputs": [],
   "source": [
    "x = input(\"What is x? \")\n",
    "y = input(\"What is y? \")\n",
    "\n",
    "z = x+y\n",
    "print(z)\n",
    "# This produces an incorrect response because x and y are being treated as strings, not integers\n",
    "\n",
    "# we can wrap x and y using int()\n",
    "x = int(input(\"What is x? \"))\n",
    "y = int(input(\"What is y? \"))\n",
    "print(x+y)"
   ]
  },
  {
   "cell_type": "markdown",
   "metadata": {},
   "source": [
    "Floating Point Values or Floats and Rounding"
   ]
  },
  {
   "cell_type": "code",
   "execution_count": 24,
   "metadata": {},
   "outputs": [
    {
     "name": "stdout",
     "output_type": "stream",
     "text": [
      "9.2\n",
      "10\n",
      "9\n",
      "9.2\n",
      "0.6140350877192983\n",
      "0.614\n"
     ]
    }
   ],
   "source": [
    "a = float(input(\"What is a? \"))\n",
    "b = float(input(\"What is b? \"))\n",
    "\n",
    "print(a+b)\n",
    "\n",
    "# or\n",
    "\n",
    "c = a+b\n",
    "print(round(a) + round(b))\n",
    "print(round(c))\n",
    "\n",
    "# optional second argument to round\n",
    "# round(a, 2) rounds to two decimal places\n",
    "\n",
    "# force formatting to place a comma at the thousands point\n",
    "print(f\"{c:,}\")\n",
    "\n",
    "# Division\n",
    "\n",
    "d = a/b\n",
    "print(d)\n",
    "\n",
    "print(round(d, 4))"
   ]
  }
 ],
 "metadata": {
  "kernelspec": {
   "display_name": "Python 3",
   "language": "python",
   "name": "python3"
  },
  "language_info": {
   "codemirror_mode": {
    "name": "ipython",
    "version": 3
   },
   "file_extension": ".py",
   "mimetype": "text/x-python",
   "name": "python",
   "nbconvert_exporter": "python",
   "pygments_lexer": "ipython3",
   "version": "3.12.1"
  }
 },
 "nbformat": 4,
 "nbformat_minor": 2
}

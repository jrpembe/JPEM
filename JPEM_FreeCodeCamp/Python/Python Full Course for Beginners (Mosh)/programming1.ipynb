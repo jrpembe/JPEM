{
 "cells": [
  {
   "cell_type": "markdown",
   "metadata": {},
   "source": [
    "Task 1: Data Types\n",
    "\n",
    "We check in a patient named \"John Smith\". He is 20 years old and is a new patient. \n",
    "Store each of these variables in their appropriate form."
   ]
  },
  {
   "cell_type": "code",
   "execution_count": 4,
   "metadata": {},
   "outputs": [],
   "source": [
    "full_name = \"John Smith\" # String\n",
    "first_name, last_name = full_name.split()\n",
    "age = 20 # integer\n",
    "is_newpatient = True # Boolean"
   ]
  },
  {
   "cell_type": "markdown",
   "metadata": {},
   "source": [
    "Task 2: Input and Data Types\n",
    "\n",
    "Obtain a person's weight in lbs and convert it to kilograms."
   ]
  },
  {
   "cell_type": "code",
   "execution_count": 5,
   "metadata": {},
   "outputs": [
    {
     "name": "stdout",
     "output_type": "stream",
     "text": [
      "weight in kilograms:  25.0\n"
     ]
    }
   ],
   "source": [
    "weight_lbs = float(input(\"Weight in pounds? \"))\n",
    "weight_kgs = weight_lbs / 2.2\n",
    "print(\"weight in kilograms: \", round(weight_kgs, 2))"
   ]
  },
  {
   "cell_type": "markdown",
   "metadata": {},
   "source": [
    "Task 3: Indexing into a String\n",
    "\n",
    "Define a variable called \"name\", then print(name[1:-1])\n",
    "What will the output be?"
   ]
  },
  {
   "cell_type": "code",
   "execution_count": null,
   "metadata": {},
   "outputs": [],
   "source": [
    "course = 'Python for \"Beginners\"'\n",
    "# Python for \"Beginners\"\n",
    "# 0123456789\n",
    "\n",
    "print(course) # prints entire string\n",
    "\n",
    "print(course[1]) # In Python, counting begins at zero - so this prints  the second character\n",
    "\n",
    "print(course[0:3]) # prints range from first, second and third characters - but not that last character\n",
    "\n",
    "print(course[-1]) # prints last character\n",
    "\n",
    "print(course[1:9:2]) # prints characters from first to ninth, skipping every other character\n",
    "\n",
    "print(course[::-1]) # prints entire string in reverse"
   ]
  },
  {
   "cell_type": "code",
   "execution_count": null,
   "metadata": {},
   "outputs": [],
   "source": [
    "name = \"Jennifer\"\n",
    "print(name[1:-1]) # prints second character to second last character"
   ]
  },
  {
   "cell_type": "markdown",
   "metadata": {},
   "source": [
    "Task #4: Formatted Strings\n",
    "\n",
    "len() function\n",
    "upper, lower, title methods\n",
    "find and replace methods\n",
    "the IN operator"
   ]
  },
  {
   "cell_type": "code",
   "execution_count": 6,
   "metadata": {},
   "outputs": [
    {
     "name": "stdout",
     "output_type": "stream",
     "text": [
      "John [Smith] is a coder\n",
      "John [Smith] is a coder\n"
     ]
    }
   ],
   "source": [
    "first = \"John\"\n",
    "last = \"Smith\"\n",
    "\n",
    "message = first + \" [\" + last + \"] is a coder\" \n",
    "print(message)\n",
    "\n",
    "msg = f\"{first} [{last}] is a coder\" # add lower case f before the first quotation mark and surround variables with curly brackets {}\n",
    "print(msg)"
   ]
  },
  {
   "cell_type": "code",
   "execution_count": null,
   "metadata": {},
   "outputs": [],
   "source": [
    "print(len(course)) # print number of characters in a string, or items in a list\n",
    "\n",
    "print(course.upper()) # all characters in uppercase\n",
    "print(course.lower()) # all characters in lowercase\n",
    "print(course.title()) # all words begin with uppercase\n",
    "\n",
    "course.find(\"B\") # returns index of provided character (case sensitive)\n",
    "course.find(\"J\") # returns -1 if character not found\n",
    "\n",
    "course.replace(\"Beginners\", \"Advanced Users\")\n",
    "\n",
    "\"Python\" in course # Returns Boolean True/False if string found in variable\n",
    "\"Beginners\" in course # case sensitive\n"
   ]
  }
 ],
 "metadata": {
  "kernelspec": {
   "display_name": "Python 3",
   "language": "python",
   "name": "python3"
  },
  "language_info": {
   "codemirror_mode": {
    "name": "ipython",
    "version": 3
   },
   "file_extension": ".py",
   "mimetype": "text/x-python",
   "name": "python",
   "nbconvert_exporter": "python",
   "pygments_lexer": "ipython3",
   "version": "3.13.2"
  }
 },
 "nbformat": 4,
 "nbformat_minor": 2
}

{
 "cells": [
  {
   "cell_type": "markdown",
   "metadata": {},
   "source": [
    "LIBRARIES\n",
    "modules, reusable code created by others that can be loaded into your program:"
   ]
  },
  {
   "cell_type": "code",
   "execution_count": null,
   "metadata": {},
   "outputs": [
    {
     "data": {
      "image/png": "[encoded data removed]",
      "text/plain": [
       "<Figure size 640x480 with 1 Axes>"
      ]
     },
     "metadata": {},
     "output_type": "display_data"
    }
   ],
   "source": [
    "import random\n",
    "\n",
    "coin = random.choice([\"heads\", \"tails\"])\n",
    "\n",
    "coin\n",
    "\n",
    "import random\n",
    "import matplotlib.pyplot as plt\n",
    "\n",
    "# Number of times to flip the coin\n",
    "num_flips = 10000\n",
    "\n",
    "# Simulate coin flips\n",
    "results = [random.choice([\"heads\", \"tails\"]) for _ in range(num_flips)]\n",
    "\n",
    "# Count occurrences\n",
    "heads_count = results.count(\"heads\")\n",
    "tails_count = results.count(\"tails\")\n",
    "\n",
    "# Calculate percentages\n",
    "heads_percentage = (heads_count / num_flips) * 100\n",
    "tails_percentage = (tails_count / num_flips) * 100\n",
    "\n",
    "# Plot the results\n",
    "labels = [\"Heads\", \"Tails\"]\n",
    "percentages = [heads_percentage, tails_percentage]\n",
    "colors = [\"blue\", \"red\"]\n",
    "\n",
    "plt.bar(labels, percentages, color=colors)\n",
    "plt.ylabel(\"Percentage\")\n",
    "plt.title(f\"Coin Flip Outcomes ({num_flips} Flips)\")\n",
    "plt.ylim(0, 100)  # Set y-axis limit from 0 to 100 for percentage scale\n",
    "plt.show()\n"
   ]
  },
  {
   "cell_type": "code",
   "execution_count": 15,
   "metadata": {},
   "outputs": [],
   "source": [
    "dice = random.randint(2, 12)"
   ]
  },
  {
   "cell_type": "code",
   "execution_count": null,
   "metadata": {},
   "outputs": [],
   "source": [
    "num_rolls = 10000\n",
    "\n",
    "# Simulate dice rolls and track cumulative percentage of 7s\n",
    "sevens_count = 0\n",
    "percentages = []\n",
    "\n",
    "for i in range(1, num_rolls + 1):\n",
    "    roll = random.randint(1, 6) + random.randint(1, 6)  # Roll two dice\n",
    "    if roll == 7:\n",
    "        sevens_count += 1\n",
    "    percentages.append((sevens_count / i) * 100)  # Calculate percentage\n",
    "\n",
    "# Plot the results\n",
    "plt.plot(range(1, num_rolls + 1), percentages, color=\"blue\", label=\"Percentage of 7s\")\n",
    "plt.axhline(y=16.67, color=\"red\", linestyle=\"dashed\", label=\"Expected 16.67%\")\n",
    "plt.xlabel(\"Number of Rolls\")\n",
    "plt.ylabel(\"Percentage of Rolls That Are 7\")\n",
    "plt.title(\"Rolling Two Dice: Percentage of Sevens Over Time\")\n",
    "plt.legend()\n",
    "plt.grid(True)\n",
    "plt.show()"
   ]
  },
  {
   "cell_type": "code",
   "execution_count": 6,
   "metadata": {},
   "outputs": [
    {
     "name": "stdout",
     "output_type": "stream",
     "text": [
      "jack\n",
      "king\n",
      "queen\n",
      "ace\n"
     ]
    }
   ],
   "source": [
    "# shuffle a deck of cards\n",
    "\n",
    "import random\n",
    "\n",
    "cards = [\"jack\", \"queen\", \"king\", \"ace\"]\n",
    "random.shuffle(cards)\n",
    "\n",
    "for card in cards:\n",
    "    print(card)"
   ]
  },
  {
   "cell_type": "markdown",
   "metadata": {},
   "source": [
    "Python's statistics library:\n",
    "- average\n",
    "- median\n",
    "- mode\n",
    "- min\n",
    "- max"
   ]
  },
  {
   "cell_type": "code",
   "execution_count": 8,
   "metadata": {},
   "outputs": [
    {
     "data": {
      "text/plain": [
       "83.6"
      ]
     },
     "execution_count": 8,
     "metadata": {},
     "output_type": "execute_result"
    }
   ],
   "source": [
    "import statistics\n",
    "\n",
    "statistics.mean([100, 90, 75, 88, 65])"
   ]
  }
 ],
 "metadata": {
  "kernelspec": {
   "display_name": "Python 3",
   "language": "python",
   "name": "python3"
  },
  "language_info": {
   "codemirror_mode": {
    "name": "ipython",
    "version": 3
   },
   "file_extension": ".py",
   "mimetype": "text/x-python",
   "name": "python",
   "nbconvert_exporter": "python",
   "pygments_lexer": "ipython3",
   "version": "3.13.2"
  }
 },
 "nbformat": 4,
 "nbformat_minor": 2
}

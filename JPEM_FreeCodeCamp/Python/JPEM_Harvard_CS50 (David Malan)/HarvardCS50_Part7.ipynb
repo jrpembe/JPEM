{
 "cells": [
  {
   "cell_type": "markdown",
   "metadata": {},
   "source": [
    "Exceptions: Dealing with errors"
   ]
  },
  {
   "cell_type": "code",
   "execution_count": 1,
   "metadata": {},
   "outputs": [
    {
     "ename": "SyntaxError",
     "evalue": "unterminated string literal (detected at line 2) (3634079021.py, line 2)",
     "output_type": "error",
     "traceback": [
      "\u001b[1;36m  Cell \u001b[1;32mIn[1], line 2\u001b[1;36m\u001b[0m\n\u001b[1;33m    print(\"hello world)\u001b[0m\n\u001b[1;37m          ^\u001b[0m\n\u001b[1;31mSyntaxError\u001b[0m\u001b[1;31m:\u001b[0m unterminated string literal (detected at line 2)\n"
     ]
    }
   ],
   "source": [
    "# SyntaxError - typos in your code that you msut go back and fix\n",
    "print(\"hello world)"
   ]
  },
  {
   "cell_type": "code",
   "execution_count": null,
   "metadata": {},
   "outputs": [
    {
     "name": "stdout",
     "output_type": "stream",
     "text": [
      "You entered:  23\n",
      "You entered:  76\n",
      "76\n"
     ]
    }
   ],
   "source": [
    "# ValueError - when you try to convert a string to a number\n",
    "\n",
    "# if user enters a string instead of a number, the program will crash\n",
    "# number1 = int(input(\"Enter a number: \"))\n",
    "# print(\"You entered: \", number1)\n",
    "\n",
    "# try / except statement to handle the ValueError\n",
    "\n",
    "try:\n",
    "    number2 = int(input(\"Enter a number: \"))\n",
    "except ValueError:\n",
    "    print(\"You did not enter a number\")\n",
    "else:\n",
    "    print(\"You entered: \", number2)\n",
    "\n",
    "\n",
    "# We could place this inside a while loop using while True to start\n",
    "# and use break to exit the loop\n",
    "while True:\n",
    "    try:\n",
    "        number3 = int(input(\"Enter a number: \"))\n",
    "    except ValueError:\n",
    "        print(\"You did not enter a number\")\n",
    "    else:\n",
    "        print(\"You entered: \", number3) \n",
    "        break"
   ]
  },
  {
   "cell_type": "code",
   "execution_count": 1,
   "metadata": {},
   "outputs": [
    {
     "name": "stdout",
     "output_type": "stream",
     "text": [
      "45\n"
     ]
    }
   ],
   "source": [
    "# defining a function get_int() that will keep asking the user for a number\n",
    "# until they enter a number\n",
    "def main():\n",
    "    x = get_int()  # Call the function\n",
    "    print(x)\n",
    "\n",
    "def get_int():\n",
    "    while True:\n",
    "        try:\n",
    "            number4 = int(input(\"Enter a number: \"))\n",
    "        except ValueError:\n",
    "            print(\"You did not enter a number\")\n",
    "        else:\n",
    "            break\n",
    "    return number4\n",
    "\n",
    "main()"
   ]
  },
  {
   "cell_type": "code",
   "execution_count": 3,
   "metadata": {},
   "outputs": [
    {
     "name": "stdout",
     "output_type": "stream",
     "text": [
      "x is 35\n"
     ]
    }
   ],
   "source": [
    "# defining a function get_int() that will keep asking the user for a number\n",
    "# until they enter a number\n",
    "def main():\n",
    "    x = get_int()  # Call the function\n",
    "    print(f\"x is {x}\")\n",
    "\n",
    "def get_int():\n",
    "    while True:\n",
    "        try:\n",
    "            return int(input(\"Enter a number: \"))\n",
    "        except ValueError:\n",
    "            pass\n",
    "\n",
    "main()"
   ]
  },
  {
   "cell_type": "code",
   "execution_count": null,
   "metadata": {},
   "outputs": [
    {
     "name": "stdout",
     "output_type": "stream",
     "text": [
      "x is 35\n"
     ]
    }
   ],
   "source": [
    "# defining a function get_int() that will keep asking the user for a number\n",
    "# until they enter a number\n",
    "def main():\n",
    "    x = get_int()  # Call the function\n",
    "    print(f\"x is {x}\")\n",
    "\n",
    "def get_int():\n",
    "    while True:\n",
    "        try:\n",
    "            return int(input(\"Enter a number: \"))\n",
    "        except ValueError:\n",
    "            pass\n",
    "\n",
    "main()"
   ]
  },
  {
   "cell_type": "code",
   "execution_count": 8,
   "metadata": {},
   "outputs": [
    {
     "ename": "NameError",
     "evalue": "name 'name' is not defined",
     "output_type": "error",
     "traceback": [
      "\u001b[1;31m---------------------------------------------------------------------------\u001b[0m",
      "\u001b[1;31mNameError\u001b[0m                                 Traceback (most recent call last)",
      "Cell \u001b[1;32mIn[8], line 2\u001b[0m\n\u001b[0;32m      1\u001b[0m \u001b[38;5;66;03m# NameError - when you try to use a variable that has not been defined\u001b[39;00m\n\u001b[1;32m----> 2\u001b[0m \u001b[38;5;28mprint\u001b[39m(\u001b[38;5;124m\"\u001b[39m\u001b[38;5;124mHello, \u001b[39m\u001b[38;5;124m\"\u001b[39m, \u001b[43mname\u001b[49m)\n",
      "\u001b[1;31mNameError\u001b[0m: name 'name' is not defined"
     ]
    }
   ],
   "source": [
    "# NameError - when you try to use a variable that has not been defined\n",
    "print(\"Hello, \", name)"
   ]
  }
 ],
 "metadata": {
  "kernelspec": {
   "display_name": "Python 3",
   "language": "python",
   "name": "python3"
  },
  "language_info": {
   "codemirror_mode": {
    "name": "ipython",
    "version": 3
   },
   "file_extension": ".py",
   "mimetype": "text/x-python",
   "name": "python",
   "nbconvert_exporter": "python",
   "pygments_lexer": "ipython3",
   "version": "3.13.2"
  }
 },
 "nbformat": 4,
 "nbformat_minor": 2
}

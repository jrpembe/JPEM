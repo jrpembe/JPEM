{
 "cells": [
  {
   "cell_type": "markdown",
   "metadata": {},
   "source": [
    "Harvard CS50's Introduction to Programming with Python - Part 2"
   ]
  },
  {
   "cell_type": "markdown",
   "metadata": {},
   "source": [
    "Defining Our Own Functions"
   ]
  },
  {
   "cell_type": "code",
   "execution_count": null,
   "metadata": {},
   "outputs": [],
   "source": [
    "# define a new function called hello()\n",
    "\n",
    "def hello(to=\"world\"): # \"to\" is a parameter as input to the hello function\n",
    "    print(\"Hello\", to) \n",
    "  \n",
    "\n",
    "# call on hello function without any input\n",
    "hello()\n",
    "  \n",
    "# Ask users for their name\n",
    "name = input(\"What is your name? \")\n",
    "\n",
    "# Call on the hello function\n",
    "hello(name) # \"name\" will get copied to the parameter \"to\"\n",
    "\n",
    "# above we assign a default parameter value def hello (to=\"world\") \n",
    "# in case the user doesn't enter a value"
   ]
  },
  {
   "cell_type": "markdown",
   "metadata": {},
   "source": [
    "SCOPE - A function must exist in order to use it later on in your code. This can lead to inefficient \n",
    "coding as we would constantly have to sroll up to see our functions created at the top of our file.\n",
    "\n",
    "Here is how we fix this issue"
   ]
  },
  {
   "cell_type": "code",
   "execution_count": null,
   "metadata": {},
   "outputs": [],
   "source": [
    "def main():\n",
    "    name2 = input(\"What is your name? \")\n",
    "    hello2()\n",
    "    \n",
    "    \n",
    "def hello2(to=\"world\"):\n",
    "    print(\"Hello,\", to)\n",
    "    \n",
    "main()"
   ]
  },
  {
   "cell_type": "markdown",
   "metadata": {},
   "source": [
    "Handing back a value explicitly from your function using RETURN"
   ]
  },
  {
   "cell_type": "code",
   "execution_count": null,
   "metadata": {},
   "outputs": [
    {
     "name": "stdout",
     "output_type": "stream",
     "text": [
      "x squared is 5929\n"
     ]
    }
   ],
   "source": [
    "def main2():\n",
    "    x = int(input(\"What is x? \"))\n",
    "    print(\"x squared is\", square(x))\n",
    "\n",
    "def square(n):\n",
    "    return(n * n) # or (n ** 2) or pow(n, 2)\n",
    "\n",
    "main2()"
   ]
  }
 ],
 "metadata": {
  "kernelspec": {
   "display_name": "Python 3",
   "language": "python",
   "name": "python3"
  },
  "language_info": {
   "codemirror_mode": {
    "name": "ipython",
    "version": 3
   },
   "file_extension": ".py",
   "mimetype": "text/x-python",
   "name": "python",
   "nbconvert_exporter": "python",
   "pygments_lexer": "ipython3",
   "version": "3.12.1"
  }
 },
 "nbformat": 4,
 "nbformat_minor": 2
}

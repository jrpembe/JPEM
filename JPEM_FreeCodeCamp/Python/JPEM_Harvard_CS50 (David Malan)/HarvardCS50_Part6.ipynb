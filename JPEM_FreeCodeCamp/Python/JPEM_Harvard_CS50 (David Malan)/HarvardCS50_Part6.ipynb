{
 "cells": [
  {
   "cell_type": "markdown",
   "metadata": {},
   "source": [
    "Creating a text based Mario game"
   ]
  },
  {
   "cell_type": "code",
   "execution_count": null,
   "metadata": {},
   "outputs": [
    {
     "name": "stdout",
     "output_type": "stream",
     "text": [
      "###\n",
      "###\n",
      "###\n"
     ]
    }
   ],
   "source": [
    "def main():\n",
    "    print_square(3)\n",
    "    # print_column(3)\n",
    "    # print_row(4)\n",
    "    \n",
    "#def print_column(height): # prints a \"wall\" of height specified in the main function\n",
    "    # print(\"#\\n\" * height, sep=\"\")\n",
    "\n",
    "#def print_row(width):\n",
    "    # print(\"?\" * width, sep=\"\")\n",
    "\n",
    "def print_square(size):\n",
    "    # for each row in square\n",
    "    for i in range(size):\n",
    "        # for each brick in row\n",
    "        for j in range(size):\n",
    "            # Print brick\n",
    "            print(\"#\", end=\"\")\n",
    "        # we don't want a new line after each brick, we want one after each row\n",
    "        print()\n",
    "\n",
    "main()\n"
   ]
  }
 ],
 "metadata": {
  "kernelspec": {
   "display_name": "Python 3",
   "language": "python",
   "name": "python3"
  },
  "language_info": {
   "codemirror_mode": {
    "name": "ipython",
    "version": 3
   },
   "file_extension": ".py",
   "mimetype": "text/x-python",
   "name": "python",
   "nbconvert_exporter": "python",
   "pygments_lexer": "ipython3",
   "version": "3.13.2"
  }
 },
 "nbformat": 4,
 "nbformat_minor": 2
}

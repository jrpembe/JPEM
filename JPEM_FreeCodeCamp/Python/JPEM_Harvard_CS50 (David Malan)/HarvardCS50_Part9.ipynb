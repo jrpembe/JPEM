{
 "cells": [
  {
   "cell_type": "markdown",
   "metadata": {},
   "source": [
    "SYS.ARGV"
   ]
  },
  {
   "cell_type": "code",
   "execution_count": null,
   "metadata": {},
   "outputs": [
    {
     "name": "stdout",
     "output_type": "stream",
     "text": [
      "Hello, my name is --f=c:\\Users\\jason\\AppData\\Roaming\\jupyter\\runtime\\kernel-v34a79db12b09fa176ec6929ef79969539f46ff62d.json\n"
     ]
    }
   ],
   "source": [
    "import sys\n",
    "\n",
    "print(\"Hello, my name is\", sys.argv[1]) # sys.argv is a list\n",
    "\n",
    "# now when you run python name.py Jason, it will print \"Hello, my name is Jason\"\n",
    "# sys.argv[0] is the name of the script itself\n",
    "# if you run without providing a name, you will get an index error\n",
    "# to avoid that, you can use a try-except block\n",
    "\n",
    "\n",
    "\n"
   ]
  }
 ],
 "metadata": {
  "kernelspec": {
   "display_name": "Python 3",
   "language": "python",
   "name": "python3"
  },
  "language_info": {
   "codemirror_mode": {
    "name": "ipython",
    "version": 3
   },
   "file_extension": ".py",
   "mimetype": "text/x-python",
   "name": "python",
   "nbconvert_exporter": "python",
   "pygments_lexer": "ipython3",
   "version": "3.13.2"
  }
 },
 "nbformat": 4,
 "nbformat_minor": 2
}

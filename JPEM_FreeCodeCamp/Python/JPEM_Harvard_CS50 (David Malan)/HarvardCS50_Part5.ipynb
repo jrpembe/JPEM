{
 "cells": [
  {
   "cell_type": "markdown",
   "metadata": {},
   "source": [
    "Lists"
   ]
  },
  {
   "cell_type": "code",
   "execution_count": null,
   "metadata": {},
   "outputs": [],
   "source": [
    "# Lists are contained between square brackets []\n",
    "# Elements within the list can be indexed using square brackets and numbers, starting at zero\n",
    "students = [\"Hermione\", \"Harry\", \"Ron\"]\n",
    "\n",
    "print(students[0])\n",
    "print(students[1])\n",
    "print(students[2])\n",
    "\n",
    "# or \n",
    "\n",
    "for student in students:\n",
    "    print(student)"
   ]
  },
  {
   "cell_type": "code",
   "execution_count": null,
   "metadata": {},
   "outputs": [],
   "source": [
    "# using len (length) function in a loop\n",
    "for i in range(len(students)):\n",
    "    print(i, students[i])"
   ]
  },
  {
   "cell_type": "markdown",
   "metadata": {},
   "source": [
    "Dictionaries:\n",
    "Keys: Values"
   ]
  },
  {
   "cell_type": "code",
   "execution_count": 8,
   "metadata": {},
   "outputs": [],
   "source": [
    "# defining two lists\n",
    "students = [\"Hermione\", \"Harry\", \"Ron\", \"Draco\"]\n",
    "houses = [\"Gryffindor\", \"Gryffindor\", \"Gryffindor\", \"Slytherin\"]\n",
    "\n",
    "# there is no association between elements of the students list, and the houses list.\n",
    "# wel will use a dictionary to associate each student with a house in a key:value pair\n",
    "\n",
    "students2 = {\n",
    "    \"Hermione\":\"Gryffindor\", \n",
    "    \"Harry\": \"Gryffindor\", \n",
    "    \"Ron\": \"Gryffindor\",\n",
    "    \"Draco\": \"Slytherin\"\n",
    "} \n"
   ]
  },
  {
   "cell_type": "code",
   "execution_count": null,
   "metadata": {},
   "outputs": [
    {
     "name": "stdout",
     "output_type": "stream",
     "text": [
      "Gryffindor\n"
     ]
    }
   ],
   "source": [
    "# we can index into a dictionary by using the key to obtain the value associated with it\n",
    "print(students2[\"Hermione\"])"
   ]
  },
  {
   "cell_type": "code",
   "execution_count": null,
   "metadata": {},
   "outputs": [],
   "source": [
    "# A for loop iterates over the keys\n",
    "for name in students2:\n",
    "    print(name)\n",
    "\n",
    "# we can index the dictionary to obtain the associated name and house pairs and provide print with two arguments\n",
    "for name in students2:\n",
    "    print(name, students2[name], sep=\", \")\n"
   ]
  },
  {
   "cell_type": "code",
   "execution_count": null,
   "metadata": {},
   "outputs": [
    {
     "name": "stdout",
     "output_type": "stream",
     "text": [
      "Hermione, Gryffindor, Otter\n",
      "Harry, Gryffindor, Stag\n",
      "Ron, Gryffindor, Jack Rossell Terrier\n",
      "Draco, Slytherin, None\n"
     ]
    }
   ],
   "source": [
    "# A list containing multiple dictionaries\n",
    "\n",
    "students3 = [\n",
    "    {\"name\": \"Hermione\", \"house\": \"Gryffindor\", \"patronus\": \"Otter\"},\n",
    "    {\"name\": \"Harry\", \"house\": \"Gryffindor\", \"patronus\":\"Stag\"},\n",
    "    {\"name\": \"Ron\", \"house\": \"Gryffindor\", \"patronus\": \"Jack Rossell Terrier\"},\n",
    "    {\"name\": \"Draco\", \"house\": \"Slytherin\", \"patronus\": None}\n",
    "]\n",
    "\n",
    "for student in students3:\n",
    "    print(student[\"name\"], student[\"house\"], student[\"patronus\"], sep=\", \")"
   ]
  },
  {
   "cell_type": "code",
   "execution_count": null,
   "metadata": {},
   "outputs": [],
   "source": []
  }
 ],
 "metadata": {
  "kernelspec": {
   "display_name": "Python 3",
   "language": "python",
   "name": "python3"
  },
  "language_info": {
   "codemirror_mode": {
    "name": "ipython",
    "version": 3
   },
   "file_extension": ".py",
   "mimetype": "text/x-python",
   "name": "python",
   "nbconvert_exporter": "python",
   "pygments_lexer": "ipython3",
   "version": "3.13.2"
  }
 },
 "nbformat": 4,
 "nbformat_minor": 2
}

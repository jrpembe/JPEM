{
 "cells": [
  {
   "cell_type": "markdown",
   "metadata": {},
   "source": [
    "Harvard CS50's Introduction to Programming with Python - Part 4"
   ]
  },
  {
   "cell_type": "markdown",
   "metadata": {},
   "source": [
    "Loops:"
   ]
  },
  {
   "cell_type": "code",
   "execution_count": 6,
   "metadata": {},
   "outputs": [
    {
     "name": "stdout",
     "output_type": "stream",
     "text": [
      "Hello!\n",
      "Hello!\n",
      "Hello!\n"
     ]
    }
   ],
   "source": [
    "# While loops\n",
    "x = 3\n",
    "while x != 0:\n",
    "    print(\"Hello!\")\n",
    "    x -= 1 # or x = x - 1"
   ]
  },
  {
   "cell_type": "code",
   "execution_count": 19,
   "metadata": {},
   "outputs": [
    {
     "name": "stdout",
     "output_type": "stream",
     "text": [
      "Hello!\n",
      "Hello!\n",
      "Hello!\n",
      "Hello!\n",
      "Hello!\n",
      "Hello!\n",
      "Hello!\n",
      "Hello!\n",
      "Hello!\n",
      "Hello!\n",
      "Hello!\n",
      "Hello!\n",
      "Hello!\n"
     ]
    }
   ],
   "source": [
    "# For Loops\n",
    "for i in [0, 1, 2]: # square brackets [] represent a list\n",
    "    print(\"Hello!\")\n",
    "    \n",
    "# Using a list duplicates the result using a while loop but is inefficient \n",
    "# in the case of a large number (say 1,000,000). Instead us \"range\"\n",
    "\n",
    "for j in range(10): # since we never use \"j\", we could replace with \"_\"\n",
    "    print(\"Hello!\")"
   ]
  },
  {
   "cell_type": "code",
   "execution_count": 32,
   "metadata": {},
   "outputs": [
    {
     "name": "stdout",
     "output_type": "stream",
     "text": [
      "Hello!\n",
      "Hello!\n",
      "Hello!\n",
      "Hello!\n"
     ]
    }
   ],
   "source": [
    "def main():\n",
    "    num = get_num()\n",
    "    hello(num)\n",
    "    \n",
    "def get_num():\n",
    "    while True:\n",
    "        num = int(input(\"What is your number? \"))\n",
    "        if num > 0:\n",
    "            break\n",
    "    return num\n",
    "\n",
    "\n",
    "def hello(num):\n",
    "    for _ in range(num):\n",
    "        print(\"Hello!\")\n",
    "        \n",
    "main()"
   ]
  }
 ],
 "metadata": {
  "kernelspec": {
   "display_name": "Python 3",
   "language": "python",
   "name": "python3"
  },
  "language_info": {
   "codemirror_mode": {
    "name": "ipython",
    "version": 3
   },
   "file_extension": ".py",
   "mimetype": "text/x-python",
   "name": "python",
   "nbconvert_exporter": "python",
   "pygments_lexer": "ipython3",
   "version": "3.13.2"
  }
 },
 "nbformat": 4,
 "nbformat_minor": 2
}

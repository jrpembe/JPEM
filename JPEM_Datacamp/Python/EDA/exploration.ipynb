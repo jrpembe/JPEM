{
 "cells": [
  {
   "cell_type": "code",
   "execution_count": 1,
   "metadata": {},
   "outputs": [],
   "source": [
    "import seaborn as sns\n",
    "import pandas as pd\n",
    "import matplotlib.pyplot as plt"
   ]
  },
  {
   "cell_type": "code",
   "execution_count": 3,
   "metadata": {},
   "outputs": [],
   "source": [
    "df = pd.read_csv(\"C:/JPEM_Git_Main/JPEM/JPEM_Datacamp/data/wines.csv\")"
   ]
  },
  {
   "cell_type": "code",
   "execution_count": null,
   "metadata": {},
   "outputs": [],
   "source": [
    "# calling head() shows the first 5 rows of the data (tail() shows the last 5)\n",
    "df.head()"
   ]
  },
  {
   "cell_type": "code",
   "execution_count": null,
   "metadata": {},
   "outputs": [],
   "source": [
    "# value_counts gives a quick look at the number of rows that fall into each category\n",
    "df['quality'].value_counts()"
   ]
  },
  {
   "cell_type": "code",
   "execution_count": null,
   "metadata": {},
   "outputs": [],
   "source": [
    "# describe() gives us essential statistics on the values in each column\n",
    "df.describe()"
   ]
  },
  {
   "cell_type": "code",
   "execution_count": null,
   "metadata": {},
   "outputs": [],
   "source": [
    "# info() reveals the variable data types and whether out data contains nulls\n",
    "df.info()\n",
    "\n",
    "# dtypes displays just the data types present in your dataset\n",
    "df.dtypes"
   ]
  },
  {
   "cell_type": "code",
   "execution_count": null,
   "metadata": {},
   "outputs": [],
   "source": [
    "# use histograms to visualize numerical data\n",
    "sns.histplot(data=df, x=\"quality\")\n",
    "plt.show"
   ]
  },
  {
   "cell_type": "code",
   "execution_count": 15,
   "metadata": {},
   "outputs": [],
   "source": [
    "# updateing data types using .astype()\n",
    "\n",
    "df_gapminder = pd.read_csv(\"C:/JPEM_Git_Main/JPEM/JPEM_Datacamp/data/gapminder.csv\")\n",
    "\n",
    "df_gapminder.dtypes\n",
    "# if year was stored as float, we should convert it to integer using the following:\n",
    "df_gapminder['year'] = df_gapminder['year'].astype(int)"
   ]
  },
  {
   "cell_type": "code",
   "execution_count": 28,
   "metadata": {},
   "outputs": [
    {
     "data": {
      "text/plain": [
       "0       True\n",
       "1      False\n",
       "2       True\n",
       "3       True\n",
       "4      False\n",
       "       ...  \n",
       "137     True\n",
       "138     True\n",
       "139     True\n",
       "140     True\n",
       "141     True\n",
       "Name: cont, Length: 142, dtype: bool"
      ]
     },
     "execution_count": 28,
     "metadata": {},
     "output_type": "execute_result"
    }
   ],
   "source": [
    "df_gapminder.head()\n",
    "\n",
    "df_gapminder['cont'].isin(['Asia', \"Africa\"])"
   ]
  },
  {
   "cell_type": "code",
   "execution_count": null,
   "metadata": {},
   "outputs": [],
   "source": [
    "df_gapminder['gdp_cap'].min()\n",
    "df_gapminder['gdp_cap'].max()"
   ]
  },
  {
   "cell_type": "code",
   "execution_count": null,
   "metadata": {},
   "outputs": [],
   "source": [
    "sns.boxplot(data=df_gapminder, x='life_exp')\n",
    "plt.show()"
   ]
  },
  {
   "cell_type": "code",
   "execution_count": null,
   "metadata": {},
   "outputs": [],
   "source": [
    "sns.boxplot(data=df_gapminder, x='life_exp', hue='cont')\n",
    "plt.xlabel(\"Life Expectency\")\n",
    "plt.ylabel(\"Continent\")\n",
    "plt.show()"
   ]
  }
 ],
 "metadata": {
  "kernelspec": {
   "display_name": "Python 3",
   "language": "python",
   "name": "python3"
  },
  "language_info": {
   "codemirror_mode": {
    "name": "ipython",
    "version": 3
   },
   "file_extension": ".py",
   "mimetype": "text/x-python",
   "name": "python",
   "nbconvert_exporter": "python",
   "pygments_lexer": "ipython3",
   "version": "3.12.1"
  }
 },
 "nbformat": 4,
 "nbformat_minor": 2
}
